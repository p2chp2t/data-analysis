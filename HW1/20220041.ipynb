{
 "cells": [
  {
   "cell_type": "markdown",
   "metadata": {},
   "source": [
    "# HW01\n",
    "Welcome to the `assignment 1` of Introduction to Data Analysis.\n",
    "\n",
    "In this assignment, you will practice basics of python, numpy and pandas.\n",
    "\n",
    "Please follow the instructions below:\n",
    "\n",
    "1. Write down your code between <br>\n",
    "&nbsp;&nbsp;&nbsp;&nbsp; **\\# BEGIN_YOUR_CODE**<br>\n",
    "&nbsp;&nbsp;&nbsp;&nbsp; and<br>\n",
    "&nbsp;&nbsp;&nbsp;&nbsp; **\\# END_YOUR_CODE**.\n",
    "\n",
    "2. Do not use **external libraries**. (i.e., Do not use any `import` in your code) <br>\n",
    "   Your code will fail to execute and get **0 score** if you use them.\n",
    "\n",
    "3. Rename this file to **[student_id].ipynb** (e.g. 20230000.ipynb) and submit it to PLMS. <br>\n",
    "   There is **30% penalty** if you do not follow the submission format.\n",
    "\n",
    "4. Submission late is not accepted.\n",
    "   You will get **No score** for late submission. "
   ]
  },
  {
   "cell_type": "code",
   "execution_count": 1,
   "metadata": {},
   "outputs": [],
   "source": [
    "import numpy as np\n",
    "import pandas as pd"
   ]
  },
  {
   "cell_type": "markdown",
   "metadata": {},
   "source": [
    "## Problem 1. Factorial [2 points]\n",
    "Given `n`, implement function `factorial(n)` that calculates `n!`. <br>\n",
    "Assume `n` is zero or a positive integer. Just so you know, `0!` is defined as `1`.<br>\n"
   ]
  },
  {
   "cell_type": "code",
   "execution_count": 2,
   "metadata": {},
   "outputs": [],
   "source": [
    "def factorial(n):\n",
    "    # BEGIN_YOUR_CODE\n",
    "    if n == 0 or n == 1:\n",
    "        return 1\n",
    "    else:\n",
    "        return n * factorial(n-1)\n",
    "    # END_YOUR_CODE"
   ]
  },
  {
   "cell_type": "markdown",
   "metadata": {},
   "source": [
    "## Problem 2. Frequent Word Count [2 points]\n",
    "Implement a function `freq_word_count(filename)` that takes a filename as input. <br>\n",
    "This function should open the specified file and determine which words appear most frequently. It should return a `tuple` where the first item is the most frequent word and the second is the count of that word.<br>\n",
    "If there are multiple words with the same maximum frequency, you can return any one of them.\n"
   ]
  },
  {
   "cell_type": "code",
   "execution_count": 3,
   "metadata": {},
   "outputs": [],
   "source": [
    "def freq_word_count(filename):\n",
    "    '''\n",
    "    filename: .txt file\n",
    "    '''\n",
    "    # BEGIN_YOUR_CODE\n",
    "    with open(filename, 'r') as f:\n",
    "        flines = f.readlines()\n",
    "\n",
    "    word_cnt = {}\n",
    "    for line in flines:\n",
    "        words = line.strip().split()\n",
    "        \n",
    "        for word in words:\n",
    "            if word in word_cnt:\n",
    "                word_cnt[word] += 1\n",
    "            else:\n",
    "                word_cnt[word] = 1\n",
    "\n",
    "    most_freq_word = max(word_cnt, key=word_cnt.get)\n",
    "    most_freq_cnt = word_cnt[most_freq_word]\n",
    "\n",
    "    return (most_freq_word, most_freq_cnt)\n",
    "    # END_YOUR_CODE"
   ]
  },
  {
   "cell_type": "markdown",
   "metadata": {},
   "source": [
    "## Problem 3. Median Score [3 points]\n",
    "Given `students`, implement function `median_score(students)` that returns a dictionary with each student_id as a key and the median score as the value.<br> If the number of scores for a student is odd, the median is the middle score. If the number of scores is even, the median is the average of the two middle scores."
   ]
  },
  {
   "cell_type": "code",
   "execution_count": 4,
   "metadata": {},
   "outputs": [],
   "source": [
    "class Student:\n",
    "    def __init__(self, args):\n",
    "        name, student_id, grade =  args\n",
    "        self.name = name\n",
    "        self.student_id = student_id\n",
    "        self.grade = grade\n",
    "    \n",
    "def median_score(students):\n",
    "    '''\n",
    "    Args:\n",
    "    students (dict): list of Student instances\n",
    "\n",
    "    Returns:\n",
    "    result (dict): A dictionary where each key is a student_id and the value is the median score.\n",
    "    '''\n",
    "    # BEGIN_YOUR_CODE\n",
    "    result = {}\n",
    "    \n",
    "    for student in students:\n",
    "        sorted_grades = sorted(student.grade)\n",
    "        n = len(sorted_grades)\n",
    "\n",
    "        if n % 2 == 1:\n",
    "            median = sorted_grades[n//2]\n",
    "        else:\n",
    "            median = (sorted_grades[n//2 - 1] + sorted_grades[n//2]) / 2\n",
    "\n",
    "        result[student.student_id] = median\n",
    "        \n",
    "    # END_YOUR_CODE    \n",
    "    return result"
   ]
  },
  {
   "cell_type": "markdown",
   "metadata": {},
   "source": [
    "## Problem 4. Vector Norm [2 points]\n",
    "Given two numpy arrays arr1 and arr2, and an integer n, implement a function `vector_norm` that calculates the n-th vector norm of the difference between arr1 and arr2. <br>\n",
    "You need to utilize the numpy library for this problem."
   ]
  },
  {
   "cell_type": "code",
   "execution_count": 5,
   "metadata": {},
   "outputs": [],
   "source": [
    "def vector_norm(arr1, arr2, n):\n",
    "    # BEGIN_YOUR_CODE\n",
    "    diff = arr1 - arr2\n",
    "    norm = np.linalg.norm(diff, ord=n)\n",
    "    return norm\n",
    "    # END_YOUR_CODE"
   ]
  },
  {
   "cell_type": "markdown",
   "metadata": {},
   "source": [
    "## Problem 5. CSV Modification [5 points]\n",
    "Your goal is to modify given csv file with below constraints. <br>\n",
    "The inputs are paths of the original data and modified data. <br>\n",
    "You need to utilize pandas library for this problem.\n",
    "\n",
    "### Constraints\n",
    "- The requirements must be followed in the same order as given below.<br>\n",
    "  (If not, you might attain different results although you followed everything correctly.)\n",
    "1. The modified csv file should contain rows where \"Active\" cases are greater than 10,000.\n",
    "2. The modified csv file should only have `Europe` region.\n",
    "3. Add new columns called \"Mortality_Rate\" and \"Recovery_Rate\", which are calculated as `(Deaths / Confirmed) * 100`, `(Recovered / Confirmed) * 100`.\n",
    "4. Sort the data by \"Mortality Rate (%)\" in descending order\n"
   ]
  },
  {
   "cell_type": "code",
   "execution_count": 6,
   "metadata": {},
   "outputs": [],
   "source": [
    "import pandas as pd\n",
    "\n",
    "def covid(original_file, modified_file):\n",
    "    df = pd.read_csv(original_file)\n",
    "    \n",
    "    # BEGIN_YOUR_CODE\n",
    "    # Contain rows where \"Active\" cases are greater than 10,000\n",
    "    df = df[df['Active'] > 10000]\n",
    "    # Only have \"Europe\" region\n",
    "    df = df[df['WHO Region'] == 'Europe']\n",
    "\n",
    "    # New columns \"Mortality_Rate\" and \"Recovery_Rate\"\n",
    "    df['Mortality_Rate'] = (df['Deaths'] / df['Confirmed']) * 100\n",
    "    df['Recovery_Rate'] = (df['Recovered'] / df['Confirmed']) * 100\n",
    "\n",
    "    # Sort by \"Mortality_Rate\" in descending order\n",
    "    df = df.sort_values(by='Mortality_Rate', ascending=False)\n",
    "    # END_YOUR_CODE\n",
    "    df.to_csv(modified_file, index=False)\n",
    "    return df"
   ]
  },
  {
   "cell_type": "markdown",
   "metadata": {},
   "source": [
    "## Problem 6. Employee and Department [6 points]\n",
    "For this problem, three csv files, `departments.csv`, `employees.csv` and `employees2.csv`, are given. <br>\n",
    "There are 2 sub problems. <br>\n",
    "You need to utilize pandas library for this problem."
   ]
  },
  {
   "cell_type": "markdown",
   "metadata": {},
   "source": [
    "### 6.a Employee Table [3 points]\n",
    "Make employee table that has `name`, `salary` and `department_name` as columns. <br>\n",
    "Note that each department has its own `department_id` and `department_name`."
   ]
  },
  {
   "cell_type": "code",
   "execution_count": 7,
   "metadata": {},
   "outputs": [],
   "source": [
    "def emp_table(dep, emp1, emp2):\n",
    "    # BEGIN_YOUR_CODE\n",
    "    dep_df = pd.read_csv(dep)\n",
    "    emp1_df = pd.read_csv(emp1)\n",
    "    emp2_df = pd.read_csv(emp2)\n",
    "\n",
    "    emp_df = pd.concat([emp1_df, emp2_df])\n",
    "    df = emp_df.merge(dep_df, on='department_id', how='left')\n",
    "    df = df[['name', 'salary', 'department_name']]\n",
    "    # END_YOUR_CODE\n",
    "    return df"
   ]
  },
  {
   "cell_type": "markdown",
   "metadata": {},
   "source": [
    "### 6.b Highest Average Salary [3 points]\n",
    "Find the department that has the highest average salary.<br>\n",
    "The output should be a dictionary with the `department_name` as the key and its highest average salary as the value. <br>\n",
    "You can use the `emp_table` provided in 6.a."
   ]
  },
  {
   "cell_type": "code",
   "execution_count": 8,
   "metadata": {},
   "outputs": [],
   "source": [
    "def highest_avg_salary(dep, emp1, emp2):\n",
    "    # BEGIN_YOUR_CODE\n",
    "    _emp_table = emp_table(dep, emp1, emp2)\n",
    "    avgsal_by_dep = _emp_table.groupby('department_name')['salary'].mean()\n",
    "\n",
    "    highest_avgsal_dep = avgsal_by_dep.idxmax()\n",
    "    highest_avg_salary = avgsal_by_dep.max()\n",
    "    \n",
    "    return {highest_avgsal_dep: highest_avg_salary}\n",
    "    # END_YOUR_CODE"
   ]
  }
 ],
 "metadata": {
  "anaconda-cloud": {},
  "kernelspec": {
   "display_name": "Python 3 (ipykernel)",
   "language": "python",
   "name": "python3"
  },
  "language_info": {
   "codemirror_mode": {
    "name": "ipython",
    "version": 3
   },
   "file_extension": ".py",
   "mimetype": "text/x-python",
   "name": "python",
   "nbconvert_exporter": "python",
   "pygments_lexer": "ipython3",
   "version": "3.11.4"
  }
 },
 "nbformat": 4,
 "nbformat_minor": 1
}
