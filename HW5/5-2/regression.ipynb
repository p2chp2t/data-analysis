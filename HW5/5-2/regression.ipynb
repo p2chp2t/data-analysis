{
 "cells": [
  {
   "cell_type": "markdown",
   "metadata": {},
   "source": [
    "# HW 5-2 Regression\n",
    "20220041"
   ]
  },
  {
   "cell_type": "code",
   "execution_count": 68,
   "metadata": {},
   "outputs": [],
   "source": [
    "import pandas as pd\n",
    "from sklearn.model_selection import train_test_split, GridSearchCV\n",
    "from sklearn.metrics import mean_squared_error\n",
    "from sklearn.ensemble import RandomForestRegressor, GradientBoostingRegressor\n",
    "from sklearn.svm import SVR\n",
    "from sklearn.neural_network import MLPRegressor\n",
    "from xgboost import XGBRegressor"
   ]
  },
  {
   "cell_type": "code",
   "execution_count": 69,
   "metadata": {},
   "outputs": [
    {
     "name": "stdout",
     "output_type": "stream",
     "text": [
      "Training features:   SEASON_ID     TEAM_ID  PLAYER_AGE  FGM  FGA  ...  BLK   TOV   PF  PTS  position\n",
      "0   2004-05  1610612740        34.0  133  342  ...  1.0  54.0   65  361     Guard\n",
      "1   2001-02  1610612746        26.0   13   39  ...  6.0  10.0   16   54    Center\n",
      "2   1964-65  1610612765        28.0   84  221  ...  NaN   NaN  136  208    Center\n",
      "3   1988-89  1610612758        24.0    8   19  ...  1.0   2.0    7   17   Forward\n",
      "4   2011-12  1610612762        35.0   81  174  ...  2.0  21.0   78  217     Guard\n",
      "\n",
      "[5 rows x 22 columns]\n",
      "Training label: 0    934.0\n",
      "1    147.0\n",
      "2    753.0\n",
      "3     43.0\n",
      "4    796.0\n",
      "Name: MIN, dtype: float64\n"
     ]
    }
   ],
   "source": [
    "train_data = pd.read_csv('train.csv')\n",
    "test_data = pd.read_csv('test.csv')\n",
    "\n",
    "train_feature = train_data.drop(columns=['MIN'])\n",
    "train_label = train_data['MIN']\n",
    "\n",
    "extra_cols = set(train_feature.columns) - set(test_data.columns)\n",
    "train_data = train_data.drop(columns=extra_cols)\n",
    "\n",
    "print(\"Training features:\", train_feature.head())\n",
    "print(\"Training label:\", train_label.head())"
   ]
  },
  {
   "cell_type": "code",
   "execution_count": 70,
   "metadata": {},
   "outputs": [
    {
     "name": "stdout",
     "output_type": "stream",
     "text": [
      "Rows with missing values:\n",
      "      SEASON_ID     TEAM_ID  PLAYER_AGE     MIN  ...    BLK    TOV   PF   PTS\n",
      "2       1964-65  1610612765        28.0   753.0  ...    NaN    NaN  136   208\n",
      "6       1977-78  1610612762        25.0  2119.0  ...  129.0  225.0  293   833\n",
      "15      1978-79  1610612765        22.0  2560.0  ...  201.0  141.0  254  1056\n",
      "17      1946-47  1610610035        23.0     NaN  ...    NaN    NaN  119   152\n",
      "25      1973-74  1610612739        22.0  1862.0  ...   35.0    NaN  192   500\n",
      "...         ...         ...         ...     ...  ...    ...    ...  ...   ...\n",
      "14979   1976-77  1610612755        25.0  2037.0  ...   15.0    NaN  174  1062\n",
      "14981   1963-64           0        24.0   147.0  ...    NaN    NaN   35    26\n",
      "14986   1962-63  1610612765        27.0  2961.0  ...    NaN    NaN  234  1547\n",
      "14992   1973-74  1610612745        30.0    38.0  ...    0.0    NaN    4    14\n",
      "14996   1970-71  1610612747        36.0    57.0  ...    NaN    NaN    6    20\n",
      "\n",
      "[3048 rows x 22 columns]\n"
     ]
    }
   ],
   "source": [
    "# Display rows with any missing values in the training data\n",
    "rows_with_missing_values = train_data[train_data.isnull().any(axis=1)]\n",
    "\n",
    "print(\"Rows with missing values:\")\n",
    "print(rows_with_missing_values)"
   ]
  },
  {
   "cell_type": "code",
   "execution_count": 71,
   "metadata": {},
   "outputs": [
    {
     "name": "stdout",
     "output_type": "stream",
     "text": [
      "<class 'pandas.core.frame.DataFrame'>\n",
      "RangeIndex: 15000 entries, 0 to 14999\n",
      "Data columns (total 21 columns):\n",
      " #   Column      Non-Null Count  Dtype  \n",
      "---  ------      --------------  -----  \n",
      " 0   SEASON_ID   15000 non-null  object \n",
      " 1   TEAM_ID     15000 non-null  int64  \n",
      " 2   PLAYER_AGE  15000 non-null  float64\n",
      " 3   FGM         15000 non-null  int64  \n",
      " 4   FGA         15000 non-null  int64  \n",
      " 5   FG_PCT      15000 non-null  float64\n",
      " 6   FG3M        15000 non-null  float64\n",
      " 7   FG3A        15000 non-null  float64\n",
      " 8   FG3_PCT     15000 non-null  float64\n",
      " 9   FTM         15000 non-null  int64  \n",
      " 10  FTA         15000 non-null  int64  \n",
      " 11  FT_PCT      15000 non-null  float64\n",
      " 12  OREB        15000 non-null  float64\n",
      " 13  DREB        15000 non-null  float64\n",
      " 14  REB         15000 non-null  float64\n",
      " 15  AST         15000 non-null  int64  \n",
      " 16  STL         15000 non-null  float64\n",
      " 17  BLK         15000 non-null  float64\n",
      " 18  TOV         15000 non-null  float64\n",
      " 19  PF          15000 non-null  int64  \n",
      " 20  PTS         15000 non-null  int64  \n",
      "dtypes: float64(12), int64(8), object(1)\n",
      "memory usage: 2.4+ MB\n",
      "None\n",
      "<class 'pandas.core.series.Series'>\n",
      "RangeIndex: 15000 entries, 0 to 14999\n",
      "Series name: MIN\n",
      "Non-Null Count  Dtype  \n",
      "--------------  -----  \n",
      "15000 non-null  float64\n",
      "dtypes: float64(1)\n",
      "memory usage: 117.3 KB\n",
      "None\n"
     ]
    }
   ],
   "source": [
    "# Fill the missing values\n",
    "train_feature = train_data.drop(columns=['MIN'])\n",
    "train_label = train_data['MIN']\n",
    "\n",
    "categorical_cols = train_feature.select_dtypes(include=['object']).columns\n",
    "numerical_cols = train_feature.select_dtypes(include=['int64', 'float64']).columns\n",
    "\n",
    "train_feature[numerical_cols] = train_feature[numerical_cols].fillna(train_feature[numerical_cols].median())\n",
    "\n",
    "for col in categorical_cols:\n",
    "    train_feature[col] = train_feature[col].fillna(train_feature[col].mode()[0])\n",
    "\n",
    "train_label = train_label.fillna(train_label.median())\n",
    "print(train_feature.info())\n",
    "print(train_label.info())"
   ]
  },
  {
   "cell_type": "code",
   "execution_count": 72,
   "metadata": {},
   "outputs": [
    {
     "name": "stdout",
     "output_type": "stream",
     "text": [
      "Number of rows in train_feature: 15000\n",
      "Number of rows in train_label: 15000\n"
     ]
    }
   ],
   "source": [
    "# Data transformation\n",
    "train_feature['SEASON_ID'] = train_feature['SEASON_ID'].str[:4].astype(int)\n",
    "\n",
    "print(\"Number of rows in train_feature:\", len(train_feature))\n",
    "print(\"Number of rows in train_label:\", len(train_label))"
   ]
  },
  {
   "cell_type": "code",
   "execution_count": 73,
   "metadata": {},
   "outputs": [],
   "source": [
    "# Split the data\n",
    "feature_train, feature_val, label_train, label_val = train_test_split(\n",
    "    train_feature, \n",
    "    train_label, \n",
    "    test_size=0.2,\n",
    "    random_state=10000\n",
    ")"
   ]
  },
  {
   "cell_type": "code",
   "execution_count": 74,
   "metadata": {},
   "outputs": [
    {
     "name": "stdout",
     "output_type": "stream",
     "text": [
      "rf feature importances:\n",
      "       Feature  Importance\n",
      "3          FGM    0.506621\n",
      "20         PTS    0.355197\n",
      "4          FGA    0.035802\n",
      "14         REB    0.030559\n",
      "19          PF    0.015918\n",
      "0    SEASON_ID    0.011719\n",
      "15         AST    0.010291\n",
      "16         STL    0.010017\n",
      "13        DREB    0.008245\n",
      "5       FG_PCT    0.001942\n",
      "11      FT_PCT    0.001822\n",
      "7         FG3A    0.001506\n",
      "12        OREB    0.001500\n",
      "18         TOV    0.001419\n",
      "2   PLAYER_AGE    0.001382\n",
      "10         FTA    0.001372\n",
      "9          FTM    0.001277\n",
      "17         BLK    0.001195\n",
      "6         FG3M    0.001149\n",
      "8      FG3_PCT    0.000957\n",
      "1      TEAM_ID    0.000109\n"
     ]
    }
   ],
   "source": [
    "# 1. Random forest\n",
    "rf_model = RandomForestRegressor(random_state=50)\n",
    "rf_model.fit(feature_train, label_train)\n",
    "\n",
    "rf_importances = rf_model.feature_importances_\n",
    "rf_importance_df = pd.DataFrame({\n",
    "    'Feature': feature_train.columns,\n",
    "    'Importance': rf_importances\n",
    "}).sort_values(by='Importance', ascending=False)\n",
    "\n",
    "print(\"rf feature importances:\")\n",
    "print(rf_importance_df)"
   ]
  },
  {
   "cell_type": "code",
   "execution_count": 75,
   "metadata": {},
   "outputs": [
    {
     "name": "stdout",
     "output_type": "stream",
     "text": [
      "features with low importance: ['TEAM_ID', 'PLAYER_AGE', 'FG_PCT', 'FG3M', 'FG3A', 'FG3_PCT', 'FTM', 'FTA', 'FT_PCT', 'OREB', 'DREB', 'BLK', 'TOV']\n",
      "1. rf mse: 26960.0801871759\n"
     ]
    }
   ],
   "source": [
    "# Exclude low importance features and re-train\n",
    "rf_low_importance_features = [feature for feature, importance in zip(feature_train.columns, rf_importances) if importance < 0.01]\n",
    "\n",
    "print(\"features with low importance:\", rf_low_importance_features)\n",
    "\n",
    "rf_features_train = feature_train.drop(columns=rf_low_importance_features)\n",
    "rf_features_val = feature_val.drop(columns=rf_low_importance_features)\n",
    "\n",
    "rf = RandomForestRegressor(random_state=50)\n",
    "rf.fit(rf_features_train, label_train)\n",
    "\n",
    "label_pred_rf = rf.predict(rf_features_val)\n",
    "mse_rf = mean_squared_error(label_val, label_pred_rf)\n",
    "print(\"1. rf mse:\", mse_rf)"
   ]
  },
  {
   "cell_type": "code",
   "execution_count": 76,
   "metadata": {},
   "outputs": [
    {
     "name": "stdout",
     "output_type": "stream",
     "text": [
      "best params for rf: {'max_depth': 30, 'min_samples_leaf': 1, 'n_estimators': 300}\n"
     ]
    }
   ],
   "source": [
    "# Hyperparameter tuning for rf\n",
    "rf_param_grid = {\n",
    "    'n_estimators': [100, 200, 300],\n",
    "    'max_depth': [10, 20, 30],\n",
    "    'min_samples_leaf': [1, 2, 4]\n",
    "}\n",
    "\n",
    "rf_grid_search = GridSearchCV(\n",
    "    RandomForestRegressor(random_state=50),\n",
    "    rf_param_grid,\n",
    "    scoring='neg_mean_squared_error',\n",
    "    cv=3,\n",
    "    n_jobs=-1\n",
    ")\n",
    "\n",
    "rf_grid_search.fit(rf_features_train, label_train)\n",
    "print(\"best params for rf:\", rf_grid_search.best_params_)"
   ]
  },
  {
   "cell_type": "code",
   "execution_count": 77,
   "metadata": {},
   "outputs": [
    {
     "name": "stdout",
     "output_type": "stream",
     "text": [
      "1+. best rf mse: 27051.00446684558\n"
     ]
    }
   ],
   "source": [
    "best_rf = rf_grid_search.best_estimator_\n",
    "\n",
    "label_pred_rf_best = best_rf.predict(rf_features_val)\n",
    "mse_best_rf = mean_squared_error(label_val, label_pred_rf_best)\n",
    "\n",
    "print(\"1+. best rf mse:\", mse_best_rf)"
   ]
  },
  {
   "cell_type": "code",
   "execution_count": 78,
   "metadata": {},
   "outputs": [
    {
     "name": "stdout",
     "output_type": "stream",
     "text": [
      "xgb feature importances:\n",
      "       Feature  Importance\n",
      "20         PTS    0.562220\n",
      "3          FGM    0.316480\n",
      "4          FGA    0.035622\n",
      "14         REB    0.025839\n",
      "19          PF    0.019301\n",
      "15         AST    0.007490\n",
      "13        DREB    0.007338\n",
      "16         STL    0.006195\n",
      "0    SEASON_ID    0.005260\n",
      "7         FG3A    0.002866\n",
      "6         FG3M    0.001777\n",
      "18         TOV    0.001209\n",
      "12        OREB    0.001148\n",
      "5       FG_PCT    0.001022\n",
      "9          FTM    0.001021\n",
      "17         BLK    0.000971\n",
      "10         FTA    0.000960\n",
      "11      FT_PCT    0.000949\n",
      "8      FG3_PCT    0.000821\n",
      "2   PLAYER_AGE    0.000761\n",
      "1      TEAM_ID    0.000752\n"
     ]
    }
   ],
   "source": [
    "# 2. XGBoost\n",
    "xgb_model = XGBRegressor(random_state=50)\n",
    "xgb_model.fit(feature_train, label_train)\n",
    "\n",
    "xgb_importances = xgb_model.feature_importances_\n",
    "xgb_importance_df = pd.DataFrame({\n",
    "    'Feature': feature_train.columns,\n",
    "    'Importance': xgb_importances\n",
    "}).sort_values(by='Importance', ascending=False)\n",
    "\n",
    "print(\"xgb feature importances:\")\n",
    "print(xgb_importance_df)"
   ]
  },
  {
   "cell_type": "code",
   "execution_count": 79,
   "metadata": {},
   "outputs": [
    {
     "name": "stdout",
     "output_type": "stream",
     "text": [
      "features with low importance: ['SEASON_ID', 'TEAM_ID', 'PLAYER_AGE', 'FG_PCT', 'FG3M', 'FG3A', 'FG3_PCT', 'FTM', 'FTA', 'FT_PCT', 'OREB', 'DREB', 'AST', 'STL', 'BLK', 'TOV']\n",
      "2. xgb mse: 50083.92965801424\n"
     ]
    }
   ],
   "source": [
    "xgb_low_importance_features = [feature for feature, importance in zip(feature_train.columns, xgb_importances) if importance < 0.01]\n",
    "\n",
    "print(\"features with low importance:\", xgb_low_importance_features)\n",
    "\n",
    "xgb_features_train = feature_train.drop(columns=xgb_low_importance_features)\n",
    "xgb_features_val = feature_val.drop(columns=xgb_low_importance_features)\n",
    "\n",
    "xgb = XGBRegressor(random_state=50)\n",
    "xgb.fit(xgb_features_train, label_train)\n",
    "\n",
    "label_pred_xgb = xgb.predict(xgb_features_val)\n",
    "mse_xgb = mean_squared_error(label_val, label_pred_xgb)\n",
    "print(\"2. xgb mse:\", mse_xgb)"
   ]
  },
  {
   "cell_type": "markdown",
   "metadata": {},
   "source": [
    "Prediction on the test data"
   ]
  },
  {
   "cell_type": "code",
   "execution_count": 80,
   "metadata": {},
   "outputs": [
    {
     "name": "stdout",
     "output_type": "stream",
     "text": [
      "Predictions saved\n"
     ]
    }
   ],
   "source": [
    "test_data_clean = test_data.drop(columns=['ID'])\n",
    "test_data_clean['SEASON_ID'] = test_data_clean['SEASON_ID'].str[:4].astype(int)\n",
    "\n",
    "test_pred_rf = rf.predict(test_data_clean.drop(columns=rf_low_importance_features))\n",
    "test_pred_best_rf =  best_rf.predict(test_data_clean.drop(columns=rf_low_importance_features))\n",
    "test_pred_xgb = xgb.predict(test_data_clean.drop(columns=xgb_low_importance_features))\n",
    "\n",
    "result_rf = pd.DataFrame({\n",
    "    'ID': test_data['ID'],\n",
    "    'MIN': test_pred_rf\n",
    "})\n",
    "\n",
    "result_best_rf = pd.DataFrame({\n",
    "    'ID': test_data['ID'],\n",
    "    'MIN': test_pred_best_rf\n",
    "})\n",
    "\n",
    "result_xgb = pd.DataFrame({\n",
    "    'ID': test_data['ID'],\n",
    "    'MIN': test_pred_xgb\n",
    "})\n",
    "\n",
    "result_rf.to_csv('rf0.csv', index=False)\n",
    "result_best_rf.to_csv('rf4.csv', index=False)\n",
    "result_xgb.to_csv('xgb.csv', index=False)\n",
    "print(\"Predictions saved\")"
   ]
  }
 ],
 "metadata": {
  "kernelspec": {
   "display_name": "Python 3",
   "language": "python",
   "name": "python3"
  },
  "language_info": {
   "codemirror_mode": {
    "name": "ipython",
    "version": 3
   },
   "file_extension": ".py",
   "mimetype": "text/x-python",
   "name": "python",
   "nbconvert_exporter": "python",
   "pygments_lexer": "ipython3",
   "version": "3.10.12"
  }
 },
 "nbformat": 4,
 "nbformat_minor": 2
}
