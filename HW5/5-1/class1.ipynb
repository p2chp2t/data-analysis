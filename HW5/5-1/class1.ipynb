{
 "cells": [
  {
   "cell_type": "markdown",
   "metadata": {},
   "source": [
    "# HW 5-1 Classification\n",
    "20220041\n",
    "Using Ensemble and SVM (not submitted)"
   ]
  },
  {
   "cell_type": "code",
   "execution_count": null,
   "metadata": {},
   "outputs": [],
   "source": [
    "import pandas as pd\n",
    "from sklearn.tree import DecisionTreeClassifier\n",
    "from sklearn.ensemble import RandomForestClassifier\n",
    "from sklearn.svm import SVC\n",
    "from sklearn.model_selection import train_test_split, GridSearchCV\n",
    "from sklearn.metrics import f1_score\n",
    "from sklearn.preprocessing import LabelEncoder, StandardScaler"
   ]
  },
  {
   "cell_type": "code",
   "execution_count": null,
   "metadata": {},
   "outputs": [],
   "source": [
    "# Data loading & selection\n",
    "train_data = pd.read_csv('train.csv')\n",
    "test_data = pd.read_csv('test.csv')\n",
    "\n",
    "train_feature = train_data.drop(columns=['position'])\n",
    "train_label = train_data['position']\n",
    "\n",
    "extra_cols = set(train_feature.columns) - set(test_data.columns)\n",
    "train_data = train_data.drop(columns=extra_cols)\n",
    "\n",
    "print(train_data.info())"
   ]
  },
  {
   "cell_type": "code",
   "execution_count": null,
   "metadata": {},
   "outputs": [],
   "source": [
    "# Ignore tuples with missing values\n",
    "train_data_clean = train_data.dropna()\n",
    "train_feature_clean = train_data_clean.drop(columns=['position'])\n",
    "train_label_clean = train_data_clean['position']\n",
    "\n",
    "print(train_feature_clean.info())"
   ]
  },
  {
   "cell_type": "code",
   "execution_count": null,
   "metadata": {},
   "outputs": [],
   "source": [
    "# Data transformation\n",
    "train_feature_clean['SEASON_ID'] = train_feature_clean['SEASON_ID'].str[:4].astype(int)\n",
    "\n",
    "encoder = LabelEncoder()\n",
    "train_label_encode = encoder.fit_transform(train_label_clean)\n",
    "\n",
    "print(train_feature_clean.info())"
   ]
  },
  {
   "cell_type": "code",
   "execution_count": null,
   "metadata": {},
   "outputs": [],
   "source": [
    "# Compute feature importance using Decision Tree\n",
    "dt = DecisionTreeClassifier(random_state=10000)\n",
    "dt.fit(train_feature_clean, train_label_encode)\n",
    "feature_importances = dt.feature_importances_\n",
    "\n",
    "low_importance_features = [col for col, importance in zip(train_feature_clean.columns, feature_importances) if importance < 0.03]\n",
    "\n",
    "print(\"features with low importance:\", low_importance_features)\n",
    "\n",
    "# Reduce feature with low importance\n",
    "train_feature_reduced = train_feature_clean.drop(columns=low_importance_features)\n",
    "\n",
    "print(train_feature_reduced.info())"
   ]
  },
  {
   "cell_type": "code",
   "execution_count": null,
   "metadata": {},
   "outputs": [],
   "source": [
    "# Standardize features\n",
    "scaler = StandardScaler()\n",
    "train_feature_scaled = scaler.fit_transform(train_feature_reduced)"
   ]
  },
  {
   "cell_type": "code",
   "execution_count": null,
   "metadata": {},
   "outputs": [],
   "source": [
    "# Split the data\n",
    "feature_train, feature_val, label_train, label_val = train_test_split(\n",
    "    train_feature_scaled,\n",
    "    train_label_encode,\n",
    "    test_size=0.2,\n",
    "    random_state=50\n",
    ")"
   ]
  },
  {
   "cell_type": "code",
   "execution_count": null,
   "metadata": {},
   "outputs": [],
   "source": [
    "# 1. Ensemble -> random forest classifier\n",
    "rf = RandomForestClassifier(random_state=50)\n",
    "rf.fit(feature_train, label_train)\n",
    "\n",
    "label_pred_rf = rf.predict(feature_val)\n",
    "f1_rf = f1_score(label_val, label_pred_rf, average='weighted')\n",
    "print(\"1. ensemble -> random forest model weighted f1 score:\", f1_rf)"
   ]
  },
  {
   "cell_type": "code",
   "execution_count": null,
   "metadata": {},
   "outputs": [],
   "source": [
    "# Hyperparameter tuning for rf\n",
    "param_grid_rf = {\n",
    "    'n_estimators': [50, 100, 200],\n",
    "    'max_depth': [10, 20, 30],\n",
    "    'min_samples_leaf': [1, 2, 4]\n",
    "}\n",
    "\n",
    "grid_search_rf = GridSearchCV(\n",
    "    RandomForestClassifier(random_state=10000),\n",
    "    param_grid_rf,\n",
    "    scoring='f1_weighted',  \n",
    "    cv=3,  \n",
    "    n_jobs=-1\n",
    ")\n",
    "\n",
    "grid_search_rf.fit(feature_train, label_train)\n",
    "\n",
    "print(\"best params for rf:\", grid_search_rf.best_params_)"
   ]
  },
  {
   "cell_type": "code",
   "execution_count": null,
   "metadata": {},
   "outputs": [],
   "source": [
    "# Prediction with best rf\n",
    "best_rf = grid_search_rf.best_estimator_\n",
    "label_pred_best_rf = best_rf.predict(feature_val)\n",
    "\n",
    "f1_best_rf = f1_score(label_val, label_pred_best_rf, average='weighted')\n",
    "print(\"1+. best rf model weighted f1 score:\", f1_best_rf)"
   ]
  },
  {
   "cell_type": "code",
   "execution_count": null,
   "metadata": {},
   "outputs": [],
   "source": [
    "# 2. SVM\n",
    "svm = SVC(random_state=50)\n",
    "svm.fit(feature_train, label_train)\n",
    "\n",
    "label_pred_svm = svm.predict(feature_val)\n",
    "f1_svm = f1_score(label_val, label_pred_svm, average='weighted')\n",
    "print(\"2. svm weighted f1 score:\", f1_svm)"
   ]
  },
  {
   "cell_type": "code",
   "execution_count": null,
   "metadata": {},
   "outputs": [],
   "source": [
    "# Hyperparameter tuning for svm\n",
    "param_grid_svm = {\n",
    "    'C': [0.1, 1, 10],\n",
    "    'kernel': ['rbf', 'linear'],\n",
    "    'gamma': ['scale', 'auto']\n",
    "}\n",
    "\n",
    "grid_search_svm = GridSearchCV(\n",
    "    SVC(random_state=10000),\n",
    "    param_grid_svm,\n",
    "    scoring='f1_weighted',\n",
    "    cv=3,\n",
    "    n_jobs=-1\n",
    ")\n",
    "\n",
    "grid_search_svm.fit(feature_train, label_train)\n",
    "print(\"best params for svm:\", grid_search_svm.best_params_)"
   ]
  },
  {
   "cell_type": "code",
   "execution_count": null,
   "metadata": {},
   "outputs": [],
   "source": [
    "# Prediction with best svm\n",
    "best_svm = grid_search_svm.best_estimator_\n",
    "label_pred_best_svm = best_svm.predict(feature_val)\n",
    "\n",
    "f1_best_svm = f1_score(label_val, label_pred_best_svm, average='weighted')\n",
    "print(\"2+. best svm weighted f1 score:\", f1_best_svm)"
   ]
  },
  {
   "cell_type": "markdown",
   "metadata": {},
   "source": [
    "Prediction on the test data"
   ]
  },
  {
   "cell_type": "code",
   "execution_count": null,
   "metadata": {},
   "outputs": [],
   "source": [
    "# Preprocessing\n",
    "test_data_clean = test_data.drop(columns=['ID'])\n",
    "test_data_clean['SEASON_ID'] = test_data_clean['SEASON_ID'].str[:4].astype(int)\n",
    "test_data_clean_reduced = test_data_clean.drop(columns=low_importance_features)\n",
    "test_data_scaled = scaler.fit_transform(test_data_clean_reduced)\n",
    "\n",
    "# Prediction\n",
    "test_pred_rf = best_rf.predict(test_data_scaled)\n",
    "test_pred_labels_rf = encoder.inverse_transform(test_pred_rf)\n",
    "\n",
    "test_pred_svm = best_svm.predict(test_data_scaled)\n",
    "test_pred_labels_svm = encoder.inverse_transform(test_pred_svm)\n",
    "\n",
    "result_rf = pd.DataFrame({\n",
    "    'ID': test_data['ID'],\n",
    "    'position': test_pred_labels_rf\n",
    "})\n",
    "result_svm = pd.DataFrame({\n",
    "    'ID': test_data['ID'],\n",
    "    'position': test_pred_labels_svm\n",
    "})\n",
    "\n",
    "result_rf.to_csv('rf.csv', index=False)\n",
    "result_svm.to_csv('svm.csv',index=False)\n",
    "print(\"Predictions saved\")\n"
   ]
  }
 ],
 "metadata": {
  "kernelspec": {
   "display_name": "Python 3",
   "language": "python",
   "name": "python3"
  },
  "language_info": {
   "codemirror_mode": {
    "name": "ipython",
    "version": 3
   },
   "file_extension": ".py",
   "mimetype": "text/x-python",
   "name": "python",
   "nbconvert_exporter": "python",
   "pygments_lexer": "ipython3",
   "version": "3.10.12"
  }
 },
 "nbformat": 4,
 "nbformat_minor": 2
}
