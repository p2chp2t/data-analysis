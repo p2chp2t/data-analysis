{
 "cells": [
  {
   "cell_type": "markdown",
   "metadata": {},
   "source": [
    "# HW 5-1 Classification\n",
    "20220041\n",
    "Using Neural Network (not submitted)"
   ]
  },
  {
   "cell_type": "code",
   "execution_count": null,
   "metadata": {},
   "outputs": [],
   "source": [
    "import pandas as pd\n",
    "from sklearn.model_selection import train_test_split\n",
    "from sklearn.metrics import f1_score\n",
    "from sklearn.preprocessing import LabelEncoder, StandardScaler\n",
    "import torch\n",
    "import torch.nn as nn\n",
    "import torch.optim as optim\n",
    "from torch.utils.data import DataLoader, TensorDataset\n",
    "from sklearn.tree import DecisionTreeClassifier"
   ]
  },
  {
   "cell_type": "code",
   "execution_count": null,
   "metadata": {},
   "outputs": [],
   "source": [
    "# Data loading & selection\n",
    "train_data = pd.read_csv('train.csv')\n",
    "test_data = pd.read_csv('test.csv')\n",
    "\n",
    "train_feature = train_data.drop(columns=['position'])\n",
    "train_label = train_data['position']\n",
    "\n",
    "extra_cols = set(train_feature.columns) - set(test_data.columns)\n",
    "train_data = train_data.drop(columns=extra_cols)\n",
    "print(extra_cols)\n",
    "print(train_data.info())"
   ]
  },
  {
   "cell_type": "code",
   "execution_count": null,
   "metadata": {},
   "outputs": [],
   "source": [
    "# Ignore tuples with missing values\n",
    "train_data_clean = train_data.dropna()\n",
    "train_feature_clean = train_data_clean.drop(columns=['position'])\n",
    "train_label_clean = train_data_clean['position']\n",
    "\n",
    "print(train_feature_clean.info())"
   ]
  },
  {
   "cell_type": "code",
   "execution_count": null,
   "metadata": {},
   "outputs": [],
   "source": [
    "# Data transformation\n",
    "train_feature_clean['SEASON_ID'] = train_feature_clean['SEASON_ID'].str[:4].astype(int)\n",
    "\n",
    "encoder = LabelEncoder()\n",
    "train_label_encode = encoder.fit_transform(train_label_clean)\n",
    "\n",
    "print(train_feature_clean.info())"
   ]
  },
  {
   "cell_type": "code",
   "execution_count": null,
   "metadata": {},
   "outputs": [],
   "source": [
    "# Compute feature importance using Decision Tree\n",
    "dt = DecisionTreeClassifier(random_state=10000)\n",
    "dt.fit(train_feature_clean, train_label_encode)\n",
    "feature_importances = dt.feature_importances_\n",
    "\n",
    "low_importance_features = [col for col, importance in zip(train_feature_clean.columns, feature_importances) if importance < 0.03]\n",
    "\n",
    "print(\"features with low importance:\", low_importance_features)\n",
    "\n",
    "# Reduce feature with low importance\n",
    "train_feature_reduced = train_feature_clean.drop(columns=low_importance_features)\n",
    "\n",
    "print(train_feature_reduced.info())"
   ]
  },
  {
   "cell_type": "code",
   "execution_count": null,
   "metadata": {},
   "outputs": [],
   "source": [
    "# Standardize features\n",
    "scaler = StandardScaler()\n",
    "train_feature_scaled = scaler.fit_transform(train_feature_reduced)"
   ]
  },
  {
   "cell_type": "code",
   "execution_count": null,
   "metadata": {},
   "outputs": [],
   "source": [
    "# Split the data\n",
    "feature_train, feature_val, label_train, label_val = train_test_split(\n",
    "    train_feature_scaled,\n",
    "    train_label_encode,\n",
    "    test_size=0.2,\n",
    "    random_state=10000\n",
    ")\n",
    "\n",
    "feature_train = torch.tensor(feature_train, dtype=torch.float32)\n",
    "feature_val = torch.tensor(feature_val, dtype=torch.float32)\n",
    "label_train = torch.tensor(label_train, dtype=torch.long)  \n",
    "label_val = torch.tensor(label_val, dtype=torch.long)"
   ]
  },
  {
   "cell_type": "code",
   "execution_count": null,
   "metadata": {},
   "outputs": [],
   "source": [
    "# Hyperparameters\n",
    "input_dim = feature_train.shape[1]             # number of features\n",
    "hidden_dim = 64                                # number of neurons in the hidden layer\n",
    "output_dim = len(torch.unique(label_train))    # number of classes\n",
    "learning_rate = 0.01\n",
    "epochs = 30\n",
    "batch_size = 32"
   ]
  },
  {
   "cell_type": "code",
   "execution_count": null,
   "metadata": {},
   "outputs": [],
   "source": [
    "# Prepare data for pytorch\n",
    "train_dataset = TensorDataset(feature_train, label_train)\n",
    "val_dataset = TensorDataset(feature_val, label_val)\n",
    "\n",
    "train_loader = DataLoader(train_dataset, batch_size=32, shuffle=True)\n",
    "val_loader = DataLoader(val_dataset, batch_size=32, shuffle=False)"
   ]
  },
  {
   "cell_type": "code",
   "execution_count": null,
   "metadata": {},
   "outputs": [],
   "source": [
    "class SimpleNN(nn.Module):\n",
    "    def __init__(self, input_dim, hidden_dim, output_dim):\n",
    "        super(SimpleNN, self).__init__()\n",
    "        self.fc1 = nn.Linear(input_dim, hidden_dim)\n",
    "        self.relu = nn.ReLU()\n",
    "        self.fc2 = nn.Linear(hidden_dim, output_dim)\n",
    "\n",
    "    def forward(self, x):\n",
    "        x = self.fc1(x)\n",
    "        x = self.relu(x)\n",
    "        x = self.fc2(x)\n",
    "        return x\n"
   ]
  },
  {
   "cell_type": "code",
   "execution_count": null,
   "metadata": {},
   "outputs": [],
   "source": [
    "# model, loss, and optimizer\n",
    "model = SimpleNN(input_dim, hidden_dim, output_dim)\n",
    "criterion = nn.CrossEntropyLoss()\n",
    "optimizer = optim.Adam(model.parameters(), lr=learning_rate)"
   ]
  },
  {
   "cell_type": "code",
   "execution_count": null,
   "metadata": {},
   "outputs": [],
   "source": [
    "for epoch in range(epochs):\n",
    "    model.train()\n",
    "    train_loss = 0\n",
    "    for batch_X, batch_y in train_loader:\n",
    "        optimizer.zero_grad()\n",
    "        outputs = model(batch_X)\n",
    "        loss = criterion(outputs, batch_y)\n",
    "        loss.backward()\n",
    "        optimizer.step()\n",
    "        train_loss += loss.item()\n",
    "\n",
    "    # Validation step\n",
    "    model.eval()\n",
    "    val_predictions = []\n",
    "    val_targets = []\n",
    "\n",
    "    with torch.no_grad():\n",
    "        for batch_X, batch_y in val_loader:\n",
    "            outputs = model(batch_X)\n",
    "            _, predicted = torch.max(outputs, 1)\n",
    "            val_predictions.extend(predicted.cpu().numpy())\n",
    "            val_targets.extend(batch_y.cpu().numpy())      \n",
    "\n",
    "weighted_f1_nn = f1_score(val_targets, val_predictions, average='weighted')\n",
    "print(\"nn f1 score:\", weighted_f1_nn)"
   ]
  },
  {
   "cell_type": "code",
   "execution_count": null,
   "metadata": {},
   "outputs": [],
   "source": [
    "test_data_clean = test_data.drop(columns=['ID'])\n",
    "test_data_clean['SEASON_ID'] = test_data_clean['SEASON_ID'].astype(str).str[:4].astype(int)\n",
    "test_data_clean_reduced = test_data_clean.drop(columns=low_importance_features)\n",
    "test_features_scaled = scaler.transform(test_data_clean_reduced)\n",
    "test_features_tensor = torch.tensor(test_features_scaled, dtype=torch.float32)\n",
    "\n",
    "# Predict using the trained model\n",
    "model.eval()\n",
    "with torch.no_grad():\n",
    "    test_outputs = model(test_features_tensor)\n",
    "    _, test_pred = torch.max(test_outputs, 1)\n",
    "\n",
    "test_pred_labels = encoder.inverse_transform(test_pred.numpy())\n",
    "\n",
    "result = pd.DataFrame({\n",
    "    'ID': test_data['ID'],\n",
    "    'position': test_pred_labels\n",
    "})\n",
    "\n",
    "result.to_csv('nn4.csv', index=False)\n",
    "print(\"Predictions saved to 'nn.csv'\")"
   ]
  }
 ],
 "metadata": {
  "kernelspec": {
   "display_name": "Python 3",
   "language": "python",
   "name": "python3"
  },
  "language_info": {
   "codemirror_mode": {
    "name": "ipython",
    "version": 3
   },
   "file_extension": ".py",
   "mimetype": "text/x-python",
   "name": "python",
   "nbconvert_exporter": "python",
   "pygments_lexer": "ipython3",
   "version": "3.10.12"
  }
 },
 "nbformat": 4,
 "nbformat_minor": 2
}
