{
 "cells": [
  {
   "cell_type": "markdown",
   "metadata": {},
   "source": [
    "# HW 4-2 Regression\n",
    "20220041"
   ]
  },
  {
   "cell_type": "code",
   "execution_count": 56,
   "metadata": {},
   "outputs": [
    {
     "name": "stdout",
     "output_type": "stream",
     "text": [
      "<class 'pandas.core.frame.DataFrame'>\n",
      "RangeIndex: 15000 entries, 0 to 14999\n",
      "Data columns (total 25 columns):\n",
      " #   Column      Non-Null Count  Dtype  \n",
      "---  ------      --------------  -----  \n",
      " 0   SEASON_ID   15000 non-null  object \n",
      " 1   TEAM_ID     15000 non-null  int64  \n",
      " 2   PLAYER_AGE  15000 non-null  float64\n",
      " 3   GP          15000 non-null  int64  \n",
      " 4   GS          11838 non-null  float64\n",
      " 5   MIN         14610 non-null  float64\n",
      " 6   FGM         15000 non-null  int64  \n",
      " 7   FGA         15000 non-null  int64  \n",
      " 8   FG_PCT      14994 non-null  float64\n",
      " 9   FG3M        12057 non-null  float64\n",
      " 10  FG3A        12057 non-null  float64\n",
      " 11  FG3_PCT     11955 non-null  float64\n",
      " 12  FTM         15000 non-null  int64  \n",
      " 13  FTA         15000 non-null  int64  \n",
      " 14  FT_PCT      14952 non-null  float64\n",
      " 15  OREB        12931 non-null  float64\n",
      " 16  DREB        12931 non-null  float64\n",
      " 17  REB         14662 non-null  float64\n",
      " 18  AST         15000 non-null  int64  \n",
      " 19  STL         12931 non-null  float64\n",
      " 20  BLK         12931 non-null  float64\n",
      " 21  TOV         12399 non-null  float64\n",
      " 22  PF          15000 non-null  int64  \n",
      " 23  PTS         15000 non-null  int64  \n",
      " 24  position    14897 non-null  object \n",
      "dtypes: float64(14), int64(9), object(2)\n",
      "memory usage: 2.9+ MB\n",
      "None\n",
      "Training features:\n",
      "   SEASON_ID     TEAM_ID  PLAYER_AGE  GP    GS  FGM  FGA  FG_PCT  FG3M  FG3A  \\\n",
      "0   2004-05  1610612740        34.0  26  26.0  133  342   0.389  28.0  80.0   \n",
      "1   2001-02  1610612746        26.0  29   1.0   13   39   0.333   0.0   0.0   \n",
      "2   1964-65  1610612765        28.0  62   NaN   84  221   0.380   NaN   NaN   \n",
      "3   1988-89  1610612758        24.0   7   0.0    8   19   0.421   0.0   1.0   \n",
      "4   2011-12  1610612762        35.0  34  33.0   81  174   0.466  34.0  87.0   \n",
      "\n",
      "   ...  FT_PCT  OREB  DREB    REB  AST   STL  BLK   TOV   PF  PTS  \n",
      "0  ...   0.882  12.0  73.0   85.0  109  35.0  1.0  54.0   65  361  \n",
      "1  ...   0.700  12.0  22.0   34.0    3   2.0  6.0  10.0   16   54  \n",
      "2  ...   0.690   NaN   NaN  206.0   38   NaN  NaN   NaN  136  208  \n",
      "3  ...   0.500   3.0   4.0    7.0    0   1.0  1.0   2.0    7   17  \n",
      "4  ...   0.840   6.0  43.0   49.0   38  13.0  2.0  21.0   78  217  \n",
      "\n",
      "[5 rows x 23 columns]\n",
      "Training label:\n",
      " 0    934.0\n",
      "1    147.0\n",
      "2    753.0\n",
      "3     43.0\n",
      "4    796.0\n",
      "Name: MIN, dtype: float64\n"
     ]
    }
   ],
   "source": [
    "import pandas as pd\n",
    "\n",
    "train_data = pd.read_csv('train.csv')\n",
    "test_data = pd.read_csv('test.csv')\n",
    "\n",
    "print(train_data.info())\n",
    "\n",
    "train_feature = train_data.drop(columns=['MIN', 'position'])\n",
    "train_label = train_data['MIN']\n",
    "\n",
    "print(\"Training features:\\n\", train_feature.head())\n",
    "print(\"Training label:\\n\", train_label.head())"
   ]
  },
  {
   "cell_type": "markdown",
   "metadata": {},
   "source": [
    "Data preprocessing"
   ]
  },
  {
   "cell_type": "markdown",
   "metadata": {},
   "source": [
    "1. Data selection"
   ]
  },
  {
   "cell_type": "code",
   "execution_count": 57,
   "metadata": {},
   "outputs": [
    {
     "name": "stdout",
     "output_type": "stream",
     "text": [
      "{'GS', 'GP'}\n",
      "<class 'pandas.core.frame.DataFrame'>\n",
      "RangeIndex: 15000 entries, 0 to 14999\n",
      "Data columns (total 23 columns):\n",
      " #   Column      Non-Null Count  Dtype  \n",
      "---  ------      --------------  -----  \n",
      " 0   SEASON_ID   15000 non-null  object \n",
      " 1   TEAM_ID     15000 non-null  int64  \n",
      " 2   PLAYER_AGE  15000 non-null  float64\n",
      " 3   MIN         14610 non-null  float64\n",
      " 4   FGM         15000 non-null  int64  \n",
      " 5   FGA         15000 non-null  int64  \n",
      " 6   FG_PCT      14994 non-null  float64\n",
      " 7   FG3M        12057 non-null  float64\n",
      " 8   FG3A        12057 non-null  float64\n",
      " 9   FG3_PCT     11955 non-null  float64\n",
      " 10  FTM         15000 non-null  int64  \n",
      " 11  FTA         15000 non-null  int64  \n",
      " 12  FT_PCT      14952 non-null  float64\n",
      " 13  OREB        12931 non-null  float64\n",
      " 14  DREB        12931 non-null  float64\n",
      " 15  REB         14662 non-null  float64\n",
      " 16  AST         15000 non-null  int64  \n",
      " 17  STL         12931 non-null  float64\n",
      " 18  BLK         12931 non-null  float64\n",
      " 19  TOV         12399 non-null  float64\n",
      " 20  PF          15000 non-null  int64  \n",
      " 21  PTS         15000 non-null  int64  \n",
      " 22  position    14897 non-null  object \n",
      "dtypes: float64(13), int64(8), object(2)\n",
      "memory usage: 2.6+ MB\n",
      "None\n"
     ]
    }
   ],
   "source": [
    "# Remove attributes that are not included in the test data\n",
    "extra_cols = set(train_feature.columns) - set(test_data.columns)\n",
    "print(extra_cols)\n",
    "train_data = train_data.drop(columns=extra_cols)\n",
    "print(train_data.info())"
   ]
  },
  {
   "cell_type": "markdown",
   "metadata": {},
   "source": [
    "2. Data cleaning (Handling missing values)"
   ]
  },
  {
   "cell_type": "code",
   "execution_count": 58,
   "metadata": {},
   "outputs": [
    {
     "name": "stdout",
     "output_type": "stream",
     "text": [
      "Rows with missing values:\n",
      "      SEASON_ID     TEAM_ID  PLAYER_AGE     MIN  FGM   FGA  FG_PCT  FG3M  \\\n",
      "2       1964-65  1610612765        28.0   753.0   84   221   0.380   NaN   \n",
      "6       1977-78  1610612762        25.0  2119.0  304   602   0.505   NaN   \n",
      "15      1978-79  1610612765        22.0  2560.0  456   946   0.482   NaN   \n",
      "17      1946-47  1610610035        23.0     NaN   58   260   0.223   NaN   \n",
      "25      1973-74  1610612739        22.0  1862.0  210   548   0.383   NaN   \n",
      "...         ...         ...         ...     ...  ...   ...     ...   ...   \n",
      "14979   1976-77  1610612755        25.0  2037.0  426   823   0.518   NaN   \n",
      "14981   1963-64           0        24.0   147.0   12    30   0.400   NaN   \n",
      "14986   1962-63  1610612765        27.0  2961.0  636  1450   0.439   NaN   \n",
      "14992   1973-74  1610612745        30.0    38.0    7    12   0.583   NaN   \n",
      "14996   1970-71  1610612747        36.0    57.0    8    19   0.421   NaN   \n",
      "\n",
      "       FG3A  FG3_PCT  ...   OREB   DREB    REB  AST    STL    BLK    TOV   PF  \\\n",
      "2       NaN      NaN  ...    NaN    NaN  206.0   38    NaN    NaN    NaN  136   \n",
      "6       NaN      NaN  ...  249.0  510.0  759.0  233   89.0  129.0  225.0  293   \n",
      "15      NaN      NaN  ...  211.0  437.0  648.0   89  104.0  201.0  141.0  254   \n",
      "17      NaN      NaN  ...    NaN    NaN    NaN   42    NaN    NaN    NaN  119   \n",
      "25      NaN      NaN  ...  207.0  317.0  524.0  149   46.0   35.0    NaN  192   \n",
      "...     ...      ...  ...    ...    ...    ...  ...    ...    ...    ...  ...   \n",
      "14979   NaN      NaN  ...   64.0  131.0  195.0  271   70.0   15.0    NaN  174   \n",
      "14981   NaN      NaN  ...    NaN    NaN   31.0    6    NaN    NaN    NaN   35   \n",
      "14986   NaN      NaN  ...    NaN    NaN  239.0  325    NaN    NaN    NaN  234   \n",
      "14992   NaN      NaN  ...    0.0    2.0    2.0    4    0.0    0.0    NaN    4   \n",
      "14996   NaN      NaN  ...    NaN    NaN   11.0    2    NaN    NaN    NaN    6   \n",
      "\n",
      "        PTS  position  \n",
      "2       208    Center  \n",
      "6       833    Center  \n",
      "15     1056   Forward  \n",
      "17      152    Center  \n",
      "25      500   Forward  \n",
      "...     ...       ...  \n",
      "14979  1062     Guard  \n",
      "14981    26    Center  \n",
      "14986  1547     Guard  \n",
      "14992    14     Guard  \n",
      "14996    20   Forward  \n",
      "\n",
      "[3138 rows x 23 columns]\n"
     ]
    }
   ],
   "source": [
    "# Display rows with any missing values in the training data\n",
    "rows_with_missing_values = train_data[train_data.isnull().any(axis=1)]\n",
    "\n",
    "print(\"Rows with missing values:\")\n",
    "print(rows_with_missing_values)"
   ]
  },
  {
   "cell_type": "code",
   "execution_count": 59,
   "metadata": {},
   "outputs": [
    {
     "name": "stdout",
     "output_type": "stream",
     "text": [
      "<class 'pandas.core.frame.DataFrame'>\n",
      "RangeIndex: 15000 entries, 0 to 14999\n",
      "Data columns (total 21 columns):\n",
      " #   Column      Non-Null Count  Dtype  \n",
      "---  ------      --------------  -----  \n",
      " 0   SEASON_ID   15000 non-null  object \n",
      " 1   TEAM_ID     15000 non-null  int64  \n",
      " 2   PLAYER_AGE  15000 non-null  float64\n",
      " 3   FGM         15000 non-null  int64  \n",
      " 4   FGA         15000 non-null  int64  \n",
      " 5   FG_PCT      15000 non-null  float64\n",
      " 6   FG3M        15000 non-null  float64\n",
      " 7   FG3A        15000 non-null  float64\n",
      " 8   FG3_PCT     15000 non-null  float64\n",
      " 9   FTM         15000 non-null  int64  \n",
      " 10  FTA         15000 non-null  int64  \n",
      " 11  FT_PCT      15000 non-null  float64\n",
      " 12  OREB        15000 non-null  float64\n",
      " 13  DREB        15000 non-null  float64\n",
      " 14  REB         15000 non-null  float64\n",
      " 15  AST         15000 non-null  int64  \n",
      " 16  STL         15000 non-null  float64\n",
      " 17  BLK         15000 non-null  float64\n",
      " 18  TOV         15000 non-null  float64\n",
      " 19  PF          15000 non-null  int64  \n",
      " 20  PTS         15000 non-null  int64  \n",
      "dtypes: float64(12), int64(8), object(1)\n",
      "memory usage: 2.4+ MB\n",
      "None\n",
      "<class 'pandas.core.series.Series'>\n",
      "RangeIndex: 15000 entries, 0 to 14999\n",
      "Series name: MIN\n",
      "Non-Null Count  Dtype  \n",
      "--------------  -----  \n",
      "15000 non-null  float64\n",
      "dtypes: float64(1)\n",
      "memory usage: 117.3 KB\n",
      "None\n"
     ]
    }
   ],
   "source": [
    "# Fill the missing values\n",
    "train_feature = train_data.drop(columns=['MIN', 'position'])\n",
    "train_label = train_data['MIN']\n",
    "\n",
    "categorical_cols = train_feature.select_dtypes(include=['object']).columns\n",
    "numerical_cols = train_feature.select_dtypes(include=['int64', 'float64']).columns\n",
    "\n",
    "train_feature[numerical_cols] = train_feature[numerical_cols].fillna(train_feature[numerical_cols].median())\n",
    "\n",
    "for col in categorical_cols:\n",
    "    train_feature[col] = train_feature[col].fillna(train_feature[col].mode()[0])\n",
    "\n",
    "train_label = train_label.fillna(train_label.median())\n",
    "print(train_feature.info())\n",
    "print(train_label.info())"
   ]
  },
  {
   "cell_type": "markdown",
   "metadata": {},
   "source": [
    "3. Data transformation"
   ]
  },
  {
   "cell_type": "code",
   "execution_count": 60,
   "metadata": {},
   "outputs": [
    {
     "name": "stdout",
     "output_type": "stream",
     "text": [
      "Number of rows in train_feature: 15000\n",
      "Number of rows in train_label: 15000\n"
     ]
    }
   ],
   "source": [
    "train_feature['SEASON_ID'] = train_feature['SEASON_ID'].str[:4].astype(int)\n",
    "\n",
    "print(\"Number of rows in train_feature:\", len(train_feature))\n",
    "print(\"Number of rows in train_label:\", len(train_label))"
   ]
  },
  {
   "cell_type": "markdown",
   "metadata": {},
   "source": [
    "Training data"
   ]
  },
  {
   "cell_type": "code",
   "execution_count": 61,
   "metadata": {},
   "outputs": [],
   "source": [
    "from sklearn.model_selection import train_test_split\n",
    "\n",
    "feature_train, feature_val, label_train, label_val = train_test_split(\n",
    "    train_feature, \n",
    "    train_label, \n",
    "    test_size=0.2,\n",
    "    random_state=10000\n",
    ")"
   ]
  },
  {
   "cell_type": "markdown",
   "metadata": {},
   "source": [
    "1. Linear regression"
   ]
  },
  {
   "cell_type": "code",
   "execution_count": 62,
   "metadata": {},
   "outputs": [
    {
     "name": "stdout",
     "output_type": "stream",
     "text": [
      "Linear Regression MSE: 46286.21900153978\n"
     ]
    }
   ],
   "source": [
    "from sklearn.linear_model import LinearRegression\n",
    "from sklearn.metrics import mean_squared_error\n",
    "\n",
    "linear_model = LinearRegression()\n",
    "linear_model.fit(feature_train, label_train)\n",
    "\n",
    "label_pred = linear_model.predict(feature_val)\n",
    "mse = mean_squared_error(label_val, label_pred)\n",
    "print(\"Linear Regression MSE:\", mse)"
   ]
  },
  {
   "cell_type": "markdown",
   "metadata": {},
   "source": [
    "2. KNN"
   ]
  },
  {
   "cell_type": "code",
   "execution_count": 63,
   "metadata": {},
   "outputs": [
    {
     "name": "stdout",
     "output_type": "stream",
     "text": [
      "KNN Regression MSE: 39926.71634666666\n"
     ]
    }
   ],
   "source": [
    "from sklearn.neighbors import KNeighborsRegressor\n",
    "from sklearn.metrics import mean_squared_error\n",
    "\n",
    "knn_regressor = KNeighborsRegressor(n_neighbors=5)\n",
    "knn_regressor.fit(feature_train, label_train)\n",
    "\n",
    "label_pred_knn = knn_regressor.predict(feature_val)\n",
    "mse_knn = mean_squared_error(label_val, label_pred_knn)\n",
    "print(\"KNN Regression MSE:\", mse_knn)"
   ]
  },
  {
   "cell_type": "markdown",
   "metadata": {},
   "source": [
    "Hyperparameter tuning"
   ]
  },
  {
   "cell_type": "code",
   "execution_count": 64,
   "metadata": {},
   "outputs": [
    {
     "name": "stdout",
     "output_type": "stream",
     "text": [
      "{'n_neighbors': 9, 'weights': 'distance'}\n"
     ]
    }
   ],
   "source": [
    "from sklearn.model_selection import GridSearchCV\n",
    "\n",
    "param_grid_knn = {\n",
    "    'n_neighbors': [1, 3, 5, 7, 9, 11],\n",
    "    'weights': ['uniform', 'distance']\n",
    "}\n",
    "\n",
    "grid_search_knn = GridSearchCV(\n",
    "    KNeighborsRegressor(), \n",
    "    param_grid_knn, \n",
    "    cv=5, \n",
    "    scoring='neg_mean_squared_error'\n",
    ")\n",
    "grid_search_knn.fit(feature_train, label_train)\n",
    "\n",
    "print(grid_search_knn.best_params_)"
   ]
  },
  {
   "cell_type": "code",
   "execution_count": 65,
   "metadata": {},
   "outputs": [
    {
     "name": "stdout",
     "output_type": "stream",
     "text": [
      "Best KNN Regression MSE: 37905.01715800408\n"
     ]
    }
   ],
   "source": [
    "# Prediction with the best knn\n",
    "best_knn = grid_search_knn.best_estimator_\n",
    "label_pred_knn = best_knn.predict(feature_val)\n",
    "\n",
    "mse_knn = mean_squared_error(label_val, label_pred_knn)\n",
    "print(\"Best KNN Regression MSE:\", mse_knn)"
   ]
  },
  {
   "cell_type": "markdown",
   "metadata": {},
   "source": [
    "Prediction on the test data"
   ]
  },
  {
   "cell_type": "code",
   "execution_count": 66,
   "metadata": {},
   "outputs": [
    {
     "name": "stdout",
     "output_type": "stream",
     "text": [
      "Predictions saved\n"
     ]
    }
   ],
   "source": [
    "test_data_clean = test_data.drop(columns=['ID'])\n",
    "test_data_clean['SEASON_ID'] = test_data_clean['SEASON_ID'].str[:4].astype(int)\n",
    "\n",
    "test_pred =  best_knn.predict(test_data_clean)\n",
    "\n",
    "result = pd.DataFrame({\n",
    "    'ID': test_data['ID'],\n",
    "    'MIN': test_pred\n",
    "})\n",
    "\n",
    "result.to_csv('reg3.csv', index=False)\n",
    "print(\"Predictions saved\")"
   ]
  }
 ],
 "metadata": {
  "kernelspec": {
   "display_name": "Python 3",
   "language": "python",
   "name": "python3"
  },
  "language_info": {
   "codemirror_mode": {
    "name": "ipython",
    "version": 3
   },
   "file_extension": ".py",
   "mimetype": "text/x-python",
   "name": "python",
   "nbconvert_exporter": "python",
   "pygments_lexer": "ipython3",
   "version": "3.11.4"
  }
 },
 "nbformat": 4,
 "nbformat_minor": 2
}
